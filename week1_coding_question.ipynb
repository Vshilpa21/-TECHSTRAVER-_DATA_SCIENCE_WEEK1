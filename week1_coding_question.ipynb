{
 "cells": [
  {
   "cell_type": "markdown",
   "id": "9c4e6859",
   "metadata": {},
   "source": [
    "#CREATE,DELETE,REVERSE AND APPEND in List"
   ]
  },
  {
   "cell_type": "code",
   "execution_count": 1,
   "id": "987442a6",
   "metadata": {},
   "outputs": [
    {
     "name": "stdout",
     "output_type": "stream",
     "text": [
      "Enter List:[1,5,8,6,3,2]\n",
      "[1, 5, 8, 6, 3, 2]\n",
      "[1, 5, 8, 6, 3, 2, 7]\n",
      "[7, 3, 6, 8, 5, 1]\n"
     ]
    }
   ],
   "source": [
    "list=eval(input(\"Enter List:\"))   \n",
    "print(list)\n",
    "\n",
    "list.append(7)\n",
    "print(list)\n",
    "\n",
    "list.remove(2)\n",
    "print(list)\n",
    "\n",
    "list.reverse()\n",
    "print(list) "
   ]
  },
  {
   "cell_type": "markdown",
   "id": "b1c0a348",
   "metadata": {},
   "source": [
    "#CREATE,DELETE,REVERSE AND APPEND in Tuple"
   ]
  },
  {
   "cell_type": "code",
   "execution_count": 5,
   "id": "45e98cab",
   "metadata": {},
   "outputs": [
    {
     "name": "stdout",
     "output_type": "stream",
     "text": [
      "Enter tuple :(1, 2, 6, 3)\n",
      "(1, 2, 6, 3)\n",
      "(3, 6, 2, 1)\n"
     ]
    }
   ],
   "source": [
    "\n",
    "t=eval(input(\"Enter tuple :\"))\n",
    "print(t)\n",
    "\n",
    "t1=tuple(reversed(t))\n",
    "print(t1)"
   ]
  },
  {
   "cell_type": "code",
   "execution_count": 6,
   "id": "18e7fbc7",
   "metadata": {},
   "outputs": [
    {
     "ename": "AttributeError",
     "evalue": "'tuple' object has no attribute 'add'",
     "output_type": "error",
     "traceback": [
      "\u001b[1;31m---------------------------------------------------------------------------\u001b[0m",
      "\u001b[1;31mAttributeError\u001b[0m                            Traceback (most recent call last)",
      "Cell \u001b[1;32mIn[6], line 1\u001b[0m\n\u001b[1;32m----> 1\u001b[0m t1\u001b[38;5;241m.\u001b[39madd(\u001b[38;5;241m6\u001b[39m)\n",
      "\u001b[1;31mAttributeError\u001b[0m: 'tuple' object has no attribute 'add'"
     ]
    }
   ],
   "source": [
    "t1.add(6) #we can't append or add elements in tuples because tuple is immtable"
   ]
  },
  {
   "cell_type": "code",
   "execution_count": 1,
   "id": "07ece172",
   "metadata": {},
   "outputs": [
    {
     "name": "stdout",
     "output_type": "stream",
     "text": [
      "(1, 2, 3, 4)\n"
     ]
    }
   ],
   "source": [
    "original_tuple = (1, 2, 3)\n",
    "new_element = 4\n",
    " \n",
    "appended_tuple = original_tuple + (new_element,)\n",
    "print(appended_tuple)"
   ]
  },
  {
   "cell_type": "code",
   "execution_count": 7,
   "id": "22903616",
   "metadata": {},
   "outputs": [
    {
     "ename": "AttributeError",
     "evalue": "'tuple' object has no attribute 'remove'",
     "output_type": "error",
     "traceback": [
      "\u001b[1;31m---------------------------------------------------------------------------\u001b[0m",
      "\u001b[1;31mAttributeError\u001b[0m                            Traceback (most recent call last)",
      "Cell \u001b[1;32mIn[7], line 1\u001b[0m\n\u001b[1;32m----> 1\u001b[0m t1\u001b[38;5;241m.\u001b[39mremove(\u001b[38;5;241m1\u001b[39m)\n",
      "\u001b[1;31mAttributeError\u001b[0m: 'tuple' object has no attribute 'remove'"
     ]
    }
   ],
   "source": [
    "t1.remove(1) #we can't remove elements in tuples because tuple is immtable"
   ]
  },
  {
   "cell_type": "markdown",
   "id": "290eea1e",
   "metadata": {},
   "source": [
    "#CREATE,DELETE,REVERSE AND APPEND in Sets"
   ]
  },
  {
   "cell_type": "code",
   "execution_count": 14,
   "id": "a36ca334",
   "metadata": {},
   "outputs": [
    {
     "name": "stdout",
     "output_type": "stream",
     "text": [
      "Enter set :{10,20,30,50,60}\n",
      "{50, 20, 10, 60, 30}\n",
      "{50, 20, 40, 10, 60, 30}\n",
      "{1, 2, 3, 10, 20, 30, 40, 50, 60}\n",
      "{2, 3, 10, 20, 30, 40, 50, 60}\n",
      "{10, 20, 30, 40, 50, 60}\n"
     ]
    }
   ],
   "source": [
    "s=eval(input(\"Enter set :\"))\n",
    "print(s)\n",
    "\n",
    "s.add(40)\n",
    "print(s)\n",
    "\n",
    "l=[1,2,3]\n",
    "s.update(l)\n",
    "print(s)\n",
    "\n",
    "s.pop()\n",
    "print(s)\n",
    "\n",
    "s.remove(2)\n",
    "s.remove(3)\n",
    "print(s)"
   ]
  },
  {
   "cell_type": "markdown",
   "id": "8dd5d6f9",
   "metadata": {},
   "source": [
    "#CREATE,DELETE,REVERSE AND APPEND in Dictionaries"
   ]
  },
  {
   "cell_type": "code",
   "execution_count": 8,
   "id": "090c5a56",
   "metadata": {},
   "outputs": [
    {
     "name": "stdout",
     "output_type": "stream",
     "text": [
      "Enter dict :{100:\"durga\",200:\"ravi\",300:\"shiva\"}\n",
      "{100: 'durga', 200: 'ravi', 300: 'shiva'}\n"
     ]
    }
   ],
   "source": [
    "d=eval(input(\"Enter dict :\"))\n",
    "print(d)"
   ]
  },
  {
   "cell_type": "code",
   "execution_count": 9,
   "id": "2a1f0979",
   "metadata": {},
   "outputs": [
    {
     "name": "stdout",
     "output_type": "stream",
     "text": [
      "{200: 'ravi', 300: 'shiva'}\n"
     ]
    }
   ],
   "source": [
    "del d[100]\n",
    "print(d)"
   ]
  },
  {
   "cell_type": "code",
   "execution_count": 11,
   "id": "05d837ff",
   "metadata": {},
   "outputs": [
    {
     "name": "stdout",
     "output_type": "stream",
     "text": [
      "The original dictionary : {'gfg': 4, 'is': 2, 'best': 5}\n",
      "The reversed order dictionary : {'best': 5, 'is': 2, 'gfg': 4}\n"
     ]
    }
   ],
   "source": [
    "test_dict = {'gfg' : 4, 'is' : 2, 'best' : 5}\n",
    " \n",
    "\n",
    "print(\"The original dictionary : \" + str(test_dict))\n",
    " \n",
    "\n",
    "res = dict(reversed(list(test_dict.items())))\n",
    "  \n",
    "print(\"The reversed order dictionary : \" + str(res)) "
   ]
  },
  {
   "cell_type": "code",
   "execution_count": 12,
   "id": "12a9fe91",
   "metadata": {},
   "outputs": [
    {
     "name": "stdout",
     "output_type": "stream",
     "text": [
      "{'a': 1, 'b': 2, 'c': 3, 'd': 4}\n",
      "{'a': 1, 'b': 2, 'c': 3, 'd': 4, 'e': 5, 'f': 6}\n",
      "{'a': 1, 'b': 2, 'c': 3, 'd': 4, 'e': 5, 'f': 6, 'g': 7}\n"
     ]
    }
   ],
   "source": [
    "my_dict = {'a': 1, 'b': 2, 'c': 3} \n",
    "  \n",
    "my_dict['d'] = 4\n",
    "  \n",
    "print(my_dict) \n",
    "\n",
    "\n",
    "my_dict.update({ 'e': 5,'f':6}) \n",
    "  \n",
    "print(my_dict) \n",
    "\n",
    "my_dict.setdefault('g', 7) \n",
    "  \n",
    "print(my_dict) \n",
    "\n"
   ]
  }
 ],
 "metadata": {
  "kernelspec": {
   "display_name": "Python 3 (ipykernel)",
   "language": "python",
   "name": "python3"
  },
  "language_info": {
   "codemirror_mode": {
    "name": "ipython",
    "version": 3
   },
   "file_extension": ".py",
   "mimetype": "text/x-python",
   "name": "python",
   "nbconvert_exporter": "python",
   "pygments_lexer": "ipython3",
   "version": "3.11.5"
  }
 },
 "nbformat": 4,
 "nbformat_minor": 5
}
